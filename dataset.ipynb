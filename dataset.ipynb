{
 "cells": [
  {
   "cell_type": "code",
   "execution_count": 1,
   "metadata": {},
   "outputs": [],
   "source": [
    "def set_key(dictionary, key, value):\n",
    "    if key not in dictionary:\n",
    "        dictionary[key] = [value]\n",
    "    elif type(dictionary[key]) == list:\n",
    "        dictionary[key].append(value)\n",
    "    else:\n",
    "        dictionary[key] = [dictionary[key], value]"
   ]
  },
  {
   "cell_type": "code",
   "execution_count": 2,
   "metadata": {},
   "outputs": [],
   "source": [
    "file1 = open('forms.txt', 'r') \n",
    "Lines = file1.readlines()\n",
    "\n",
    "d = {}\n",
    "\n",
    "for Line in Lines:\n",
    "        x = Line.split()\n",
    "        if \"#\" not in x[0]:\n",
    "            set_key(d, x[1], x[0])\n",
    "            "
   ]
  },
  {
   "cell_type": "code",
   "execution_count": 3,
   "metadata": {},
   "outputs": [],
   "source": [
    "import os\n",
    "import numpy as np\n",
    "# Path to generate Sorted Dataset\n",
    "path = \"D:/College/Semester 9/Pattern Recognition and Neural Networks/Project/Final/\"\n",
    "\n",
    "try:  \n",
    "    os.mkdir(path+\"Sorted/\")\n",
    "except OSError as error:  \n",
    "    pass\n",
    "\n",
    "for key, values in d.items():\n",
    "    path2 = path+\"Sorted/\"+key+'/'\n",
    "    try:  \n",
    "        os.mkdir(path2)\n",
    "    except OSError as error:  \n",
    "        pass\n",
    "    values = np.asarray(values)\n",
    "    if len(values) > 0:\n",
    "        for value in values:\n",
    "            try:\n",
    "                os.rename(path+\"../Dataset/sowar/\"+value+\".png\", path2+value+\".png\")\n",
    "            except:\n",
    "                pass\n",
    "        \n"
   ]
  },
  {
   "cell_type": "code",
   "execution_count": 4,
   "metadata": {},
   "outputs": [
    {
     "name": "stdout",
     "output_type": "stream",
     "text": [
      "01\n",
      "02\n",
      "03\n",
      "04\n",
      "05\n",
      "06\n",
      "07\n",
      "08\n",
      "09\n",
      "10\n",
      "11\n",
      "12\n",
      "13\n",
      "14\n",
      "15\n",
      "16\n",
      "17\n",
      "18\n",
      "19\n",
      "20\n"
     ]
    }
   ],
   "source": [
    "import glob\n",
    "import os\n",
    "import random\n",
    "from shutil import copyfile,rmtree\n",
    "\n",
    "x = sorted(glob.glob(\"Sorted/*\"))\n",
    "path = \"D:/College/Semester 9/Pattern Recognition and Neural Networks/Project/Final/\"\n",
    "\n",
    "\n",
    "number = 20\n",
    "y = []\n",
    "\n",
    "if os.path.exists(path+\"TestSet\") and os.path.isdir(path+\"TestSet\"):\n",
    "    rmtree(path+\"TestSet\")\n",
    "\n",
    "try:  \n",
    "    os.mkdir(path+\"TestSet\")\n",
    "except OSError as error:  \n",
    "    pass\n",
    "\n",
    "for n in range(number):\n",
    "    writer = [0,0,0]\n",
    "    forms = [[],[],[]]\n",
    "\n",
    "    writer[0] = random.randint(0,len(x)-1)\n",
    "    forms[0] = sorted(glob.glob(x[writer[0]]+\"/*\"))\n",
    "    while len(forms[0]) < 3:\n",
    "        writer[0] = random.randint(0,len(x)-1)\n",
    "        forms[0] = sorted(glob.glob(x[writer[0]]+\"/*\"))\n",
    "\n",
    "    writer[1] = random.randint(0,len(x)-1)\n",
    "    forms[1] = sorted(glob.glob(x[writer[1]]+\"/*\"))\n",
    "    while len(forms[1]) < 3 or writer[1] == writer[0]:\n",
    "        writer[1] = random.randint(0,len(x)-1)\n",
    "        forms[1] = sorted(glob.glob(x[writer[1]]+\"/*\"))\n",
    "\n",
    "    writer[2] = random.randint(0,len(x)-1)\n",
    "    forms[2] = sorted(glob.glob(x[writer[2]]+\"/*\"))\n",
    "    while len(forms[2]) < 3 or writer[1] == writer[2] or writer[0] == writer[2]:\n",
    "        writer[2] = random.randint(0,len(x)-1)\n",
    "        forms[2] = sorted(glob.glob(x[writer[2]]+\"/*\"))\n",
    "\n",
    "\n",
    "    y.append(random.randint(0,2))\n",
    "    \n",
    "    if n < 9:\n",
    "        k = \"0\" + str(n+1)\n",
    "    else:\n",
    "        k = str(n+1)\n",
    "\n",
    "    print(k)\n",
    "    path3 = path+\"TestSet/\"+k+\"/\"\n",
    "\n",
    "    try:  \n",
    "        os.mkdir(path3)\n",
    "    except OSError as error:  \n",
    "        pass\n",
    "\n",
    "    for i in range(len(writer)):\n",
    "\n",
    "        try:  \n",
    "            os.mkdir(path3+str(i+1))\n",
    "        except OSError as error:  \n",
    "            pass\n",
    "\n",
    "        t1 = random.randint(0,len(forms[i])-1)\n",
    "        t2 = random.randint(0,len(forms[i])-1)\n",
    "\n",
    "        while t2 == t1:\n",
    "            t2 = random.randint(0,len(forms[i])-1)\n",
    "\n",
    "        copyfile(path+forms[i][t1], path3+str(i+1)+\"/1.png\")\n",
    "        copyfile(path+forms[i][t2], path3+str(i+1)+\"/2.png\")\n",
    "\n",
    "        if i == y[n]:\n",
    "            t3 = random.randint(0,len(forms[i])-1)\n",
    "            while t3 == t1 or t3 == t2:\n",
    "                t3 = random.randint(0,len(forms[i])-1)\n",
    "            copyfile(path+forms[i][t3], path3+\"test.png\")\n",
    "        \n",
    "f = open(path+\"TestSet/out.txt\", \"a\")\n",
    "for i in range(len(y)):\n",
    "    f.write(str(y[i]+1)+\"\\n\")\n",
    "f.close()\n"
   ]
  },
  {
   "cell_type": "code",
   "execution_count": 6,
   "metadata": {},
   "outputs": [
    {
     "output_type": "stream",
     "name": "stdout",
     "text": [
      "./TestSet/01\n./TestSet/02\n./TestSet/03\n./TestSet/04\n./TestSet/05\n./TestSet/06\n./TestSet/07\n./TestSet/08\n./TestSet/09\n./TestSet/10\n./TestSet/11\n./TestSet/12\n./TestSet/13\n./TestSet/14\n./TestSet/15\n./TestSet/16\n./TestSet/17\n./TestSet/18\n./TestSet/19\n./TestSet/20\n"
     ]
    }
   ],
   "source": [
    "\n",
    "import numpy as np\n",
    "import os\n",
    "\n",
    "directory='./TestSet'\n",
    "for folder in os.listdir(directory):\n",
    "    # path=directory +'/'+folder\n",
    "    # if os.path.isdir(path):\n",
    "        "
   ]
  },
  {
   "cell_type": "code",
   "execution_count": 12,
   "metadata": {},
   "outputs": [
    {
     "output_type": "stream",
     "name": "stdout",
     "text": [
      "[3 1 2 2 1 2 1 1 1 1 3 3 2 1 1 1 1 3 3 3]\n"
     ]
    }
   ],
   "source": [
    "f = open('./TestSet/out.txt', 'r')\n",
    "words = [word.strip() for word in f.readlines()]\n",
    "words=np.array(words)\n",
    "print (words.astype(int))"
   ]
  },
  {
   "cell_type": "code",
   "execution_count": null,
   "metadata": {},
   "outputs": [],
   "source": []
  }
 ],
 "metadata": {
  "kernelspec": {
   "name": "python3",
   "display_name": "Python 3.8.4 64-bit",
   "metadata": {
    "interpreter": {
     "hash": "bec81e2d0c22667e25a691ed98cb01d6c1e18ef07554ff3ac96be61bed4eca88"
    }
   }
  },
  "language_info": {
   "codemirror_mode": {
    "name": "ipython",
    "version": 3
   },
   "file_extension": ".py",
   "mimetype": "text/x-python",
   "name": "python",
   "nbconvert_exporter": "python",
   "pygments_lexer": "ipython3",
   "version": "3.8.4-final"
  }
 },
 "nbformat": 4,
 "nbformat_minor": 2
}